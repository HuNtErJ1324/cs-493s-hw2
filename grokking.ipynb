{
 "cells": [
  {
   "cell_type": "markdown",
   "id": "b6cc1621",
   "metadata": {},
   "source": [
    "# Grokking"
   ]
  },
  {
   "cell_type": "code",
   "execution_count": 1,
   "id": "f4438e62",
   "metadata": {},
   "outputs": [],
   "source": [
    "# Available arguments\n",
    "# parser.add_argument(\"--mod\", choices=[\"all\", \"97\", \"113\"], default=\"all\")\n",
    "# parser.add_argument(\"--epochs\", type=int, default=10)\n",
    "# parser.add_argument(\"--criterion\", type=str, default=\"CrossEntropyLoss\")\n",
    "\n",
    "# # GPT config params\n",
    "# parser.add_argument(\"--n_layer\", type=int, default=12)\n",
    "# parser.add_argument(\"--n_head\", type=int, default=12)\n",
    "# parser.add_argument(\"--n_embd\", type=int, default=768)\n",
    "# parser.add_argument(\"--dropout\", type=float, default=0.0)\n",
    "# parser.add_argument(\"--bias\", type=bool, default=True)\n",
    "# parser.add_argument(\"--batch_size\", type=int, default=64)\n",
    "# parser.add_argument(\"--block_size\", type=int, default=16)\n",
    "# parser.add_argument(\n",
    "#     \"--vocab_size\", type=int, default=-1\n",
    "# )  # -1 if using the vocab size from the dataset\n",
    "\n",
    "# # Optimizer config\n",
    "# parser.add_argument(\"--learning_rate\", type=float, default=6e-4)\n",
    "# parser.add_argument(\"--weight_decay\", type=float, default=1e-1)\n",
    "# parser.add_argument(\"--beta1\", type=float, default=0.9)\n",
    "# parser.add_argument(\"--beta2\", type=float, default=0.95)\n",
    "\n",
    "# parser.add_argument(\"--exp_name\", type=str, default=\"mod_gpt\")\n",
    "\n",
    "\n",
    "\n",
    "\n",
    "\n",
    "import train\n",
    "import json\n",
    "import torch\n",
    "import pandas as pd\n",
    "import matplotlib as plt\n"
   ]
  },
  {
   "cell_type": "code",
   "execution_count": 2,
   "id": "be913f7c",
   "metadata": {},
   "outputs": [
    {
     "name": "stdout",
     "output_type": "stream",
     "text": [
      "Config loaded. Using config\n",
      "Filtering dataset for p=97\n",
      "Filtering dataset for op=/\n",
      "Train dataset size: 4756\n",
      "Val dataset size: 2339\n",
      "Test dataset size: 2411\n",
      "Data loaded\n",
      "Actual GPT config\n",
      "GPTConfig(block_size=32, vocab_size=14, n_layer=2, n_head=4, n_embd=128, dropout=0.0, bias=True)\n",
      "number of parameters: 0.40M\n",
      "num decayed parameter tensors: 10, with 399,104 parameters\n",
      "num non-decayed parameter tensors: 18, with 3,584 parameters\n",
      "using fused AdamW: True\n",
      "Using device: cuda:0\n",
      "GPT built\n",
      "Train started\n"
     ]
    },
    {
     "name": "stderr",
     "output_type": "stream",
     "text": [
      "Validation: 100%|██████████| 5/5 [00:00<00:00, 112.08it/s, acc=0.0882, loss=12.7].00527]  \n",
      "Training:  10%|█         | 10491/100000 [03:10<27:03, 55.14it/s, acc=0.997, loss=0.00569]\n"
     ]
    },
    {
     "ename": "KeyboardInterrupt",
     "evalue": "",
     "output_type": "error",
     "traceback": [
      "\u001b[31m---------------------------------------------------------------------------\u001b[39m",
      "\u001b[31mKeyboardInterrupt\u001b[39m                         Traceback (most recent call last)",
      "\u001b[36mCell\u001b[39m\u001b[36m \u001b[39m\u001b[32mIn[2]\u001b[39m\u001b[32m, line 32\u001b[39m\n\u001b[32m     30\u001b[39m \u001b[38;5;66;03m# Train loop\u001b[39;00m\n\u001b[32m     31\u001b[39m \u001b[38;5;28mprint\u001b[39m(\u001b[33m\"\u001b[39m\u001b[33mTrain started\u001b[39m\u001b[33m\"\u001b[39m)\n\u001b[32m---> \u001b[39m\u001b[32m32\u001b[39m train_losses, val_losses = \u001b[43mtrain\u001b[49m\u001b[43m.\u001b[49m\u001b[43mtrain_model\u001b[49m\u001b[43m(\u001b[49m\n\u001b[32m     33\u001b[39m \u001b[43m    \u001b[49m\u001b[43mgpt\u001b[49m\u001b[43m,\u001b[49m\u001b[43m \u001b[49m\u001b[43mtrain_loader\u001b[49m\u001b[43m,\u001b[49m\u001b[43m \u001b[49m\u001b[43mval_loader\u001b[49m\u001b[43m,\u001b[49m\u001b[43m \u001b[49m\u001b[43mconfig\u001b[49m\u001b[43m,\u001b[49m\u001b[43m \u001b[49m\u001b[43moptimizer\u001b[49m\n\u001b[32m     34\u001b[39m \u001b[43m)\u001b[49m\n\u001b[32m     35\u001b[39m \u001b[38;5;28mprint\u001b[39m(\u001b[33m\"\u001b[39m\u001b[33mTrain done\u001b[39m\u001b[33m\"\u001b[39m)\n\u001b[32m     37\u001b[39m \u001b[38;5;66;03m# Testing\u001b[39;00m\n",
      "\u001b[36mFile \u001b[39m\u001b[32m/mmfs1/gscratch/scrubbed/tlilly/cs-493s-hw2/train.py:120\u001b[39m, in \u001b[36mtrain_model\u001b[39m\u001b[34m(model, train_data, val_data, config, optimizer)\u001b[39m\n\u001b[32m    117\u001b[39m \u001b[38;5;28;01mfor\u001b[39;00m epoch \u001b[38;5;129;01min\u001b[39;00m \u001b[38;5;28mrange\u001b[39m(config.epochs):\n\u001b[32m    118\u001b[39m     \u001b[38;5;28;01mif\u001b[39;00m config.num_steps > \u001b[32m0\u001b[39m:\n\u001b[32m    119\u001b[39m         epoch_result = train_one_epoch(\n\u001b[32m--> \u001b[39m\u001b[32m120\u001b[39m             model,\n\u001b[32m    121\u001b[39m             train_data,\n\u001b[32m    122\u001b[39m             optimizer,\n\u001b[32m    123\u001b[39m             config,\n\u001b[32m    124\u001b[39m             val_data=val_data,\n\u001b[32m    125\u001b[39m         )\n\u001b[32m    126\u001b[39m         epoch_loss.append(epoch_result[\u001b[32m0\u001b[39m])\n\u001b[32m    127\u001b[39m         epoch_acc.append(epoch_result[\u001b[32m1\u001b[39m])\n",
      "\u001b[36mFile \u001b[39m\u001b[32m/mmfs1/gscratch/scrubbed/tlilly/cs-493s-hw2/train.py:58\u001b[39m, in \u001b[36mtrain_one_epoch\u001b[39m\u001b[34m(model, data, optimizer, config, val_data)\u001b[39m\n\u001b[32m     56\u001b[39m model.train()\n\u001b[32m     57\u001b[39m pbar = tqdm(data, desc=\u001b[33m\"\u001b[39m\u001b[33mTraining\u001b[39m\u001b[33m\"\u001b[39m)\n\u001b[32m---> \u001b[39m\u001b[32m58\u001b[39m \u001b[43m\u001b[49m\u001b[38;5;28;43;01mfor\u001b[39;49;00m\u001b[43m \u001b[49m\u001b[43mi\u001b[49m\u001b[43m,\u001b[49m\u001b[43m \u001b[49m\u001b[43mbm\u001b[49m\u001b[43m \u001b[49m\u001b[38;5;129;43;01min\u001b[39;49;00m\u001b[43m \u001b[49m\u001b[38;5;28;43menumerate\u001b[39;49m\u001b[43m(\u001b[49m\u001b[43mpbar\u001b[49m\u001b[43m)\u001b[49m\u001b[43m:\u001b[49m\n\u001b[32m     59\u001b[39m \u001b[43m    \u001b[49m\u001b[43mbatch\u001b[49m\u001b[43m,\u001b[49m\u001b[43m \u001b[49m\u001b[43mmask\u001b[49m\u001b[43m,\u001b[49m\u001b[43m \u001b[49m\u001b[43mlab\u001b[49m\u001b[43m,\u001b[49m\u001b[43m \u001b[49m\u001b[43mlab_mask\u001b[49m\u001b[43m \u001b[49m\u001b[43m=\u001b[49m\u001b[43m \u001b[49m\u001b[43mbm\u001b[49m\n\u001b[32m     60\u001b[39m \u001b[43m    \u001b[49m\u001b[43mbatch\u001b[49m\u001b[43m \u001b[49m\u001b[43m=\u001b[49m\u001b[43m \u001b[49m\u001b[43mbatch\u001b[49m\u001b[43m.\u001b[49m\u001b[43mto\u001b[49m\u001b[43m(\u001b[49m\u001b[43mconfig\u001b[49m\u001b[43m.\u001b[49m\u001b[43mdevice\u001b[49m\u001b[43m)\u001b[49m\n",
      "\u001b[36mFile \u001b[39m\u001b[32m/gscratch/foster/sw/miniconda3/envs/core/lib/python3.12/site-packages/tqdm/std.py:1181\u001b[39m, in \u001b[36mtqdm.__iter__\u001b[39m\u001b[34m(self)\u001b[39m\n\u001b[32m   1178\u001b[39m time = \u001b[38;5;28mself\u001b[39m._time\n\u001b[32m   1180\u001b[39m \u001b[38;5;28;01mtry\u001b[39;00m:\n\u001b[32m-> \u001b[39m\u001b[32m1181\u001b[39m \u001b[43m    \u001b[49m\u001b[38;5;28;43;01mfor\u001b[39;49;00m\u001b[43m \u001b[49m\u001b[43mobj\u001b[49m\u001b[43m \u001b[49m\u001b[38;5;129;43;01min\u001b[39;49;00m\u001b[43m \u001b[49m\u001b[43miterable\u001b[49m\u001b[43m:\u001b[49m\n\u001b[32m   1182\u001b[39m \u001b[43m        \u001b[49m\u001b[38;5;28;43;01myield\u001b[39;49;00m\u001b[43m \u001b[49m\u001b[43mobj\u001b[49m\n\u001b[32m   1183\u001b[39m \u001b[43m        \u001b[49m\u001b[38;5;66;43;03m# Update and possibly print the progressbar.\u001b[39;49;00m\n\u001b[32m   1184\u001b[39m \u001b[43m        \u001b[49m\u001b[38;5;66;43;03m# Note: does not call self.update(1) for speed optimisation.\u001b[39;49;00m\n",
      "\u001b[36mFile \u001b[39m\u001b[32m/gscratch/foster/sw/miniconda3/envs/core/lib/python3.12/site-packages/torch/utils/data/dataloader.py:729\u001b[39m, in \u001b[36m_BaseDataLoaderIter.__next__\u001b[39m\u001b[34m(self)\u001b[39m\n\u001b[32m    728\u001b[39m \u001b[38;5;28;01mdef\u001b[39;00m\u001b[38;5;250m \u001b[39m\u001b[34m__next__\u001b[39m(\u001b[38;5;28mself\u001b[39m) -> Any:\n\u001b[32m--> \u001b[39m\u001b[32m729\u001b[39m \u001b[43m    \u001b[49m\u001b[38;5;28;43;01mwith\u001b[39;49;00m\u001b[43m \u001b[49m\u001b[43mtorch\u001b[49m\u001b[43m.\u001b[49m\u001b[43mautograd\u001b[49m\u001b[43m.\u001b[49m\u001b[43mprofiler\u001b[49m\u001b[43m.\u001b[49m\u001b[43mrecord_function\u001b[49m\u001b[43m(\u001b[49m\u001b[38;5;28;43mself\u001b[39;49m\u001b[43m.\u001b[49m\u001b[43m_profile_name\u001b[49m\u001b[43m)\u001b[49m\u001b[43m:\u001b[49m\n\u001b[32m    730\u001b[39m \u001b[43m        \u001b[49m\u001b[38;5;28;43;01mif\u001b[39;49;00m\u001b[43m \u001b[49m\u001b[38;5;28;43mself\u001b[39;49m\u001b[43m.\u001b[49m\u001b[43m_sampler_iter\u001b[49m\u001b[43m \u001b[49m\u001b[38;5;129;43;01mis\u001b[39;49;00m\u001b[43m \u001b[49m\u001b[38;5;28;43;01mNone\u001b[39;49;00m\u001b[43m:\u001b[49m\n\u001b[32m    731\u001b[39m \u001b[43m            \u001b[49m\u001b[38;5;66;43;03m# TODO(https://github.com/pytorch/pytorch/issues/76750)\u001b[39;49;00m\n\u001b[32m    732\u001b[39m \u001b[43m            \u001b[49m\u001b[38;5;28;43mself\u001b[39;49m\u001b[43m.\u001b[49m\u001b[43m_reset\u001b[49m\u001b[43m(\u001b[49m\u001b[43m)\u001b[49m\u001b[43m  \u001b[49m\u001b[38;5;66;43;03m# type: ignore[call-arg]\u001b[39;49;00m\n",
      "\u001b[36mFile \u001b[39m\u001b[32m/gscratch/foster/sw/miniconda3/envs/core/lib/python3.12/site-packages/torch/autograd/profiler.py:776\u001b[39m, in \u001b[36mrecord_function.__exit__\u001b[39m\u001b[34m(self, exc_type, exc_value, traceback)\u001b[39m\n\u001b[32m    771\u001b[39m     \u001b[38;5;28mself\u001b[39m.record = torch.ops.profiler._record_function_enter_new(\n\u001b[32m    772\u001b[39m         \u001b[38;5;28mself\u001b[39m.name, \u001b[38;5;28mself\u001b[39m.args\n\u001b[32m    773\u001b[39m     )\n\u001b[32m    774\u001b[39m     \u001b[38;5;28;01mreturn\u001b[39;00m \u001b[38;5;28mself\u001b[39m\n\u001b[32m--> \u001b[39m\u001b[32m776\u001b[39m \u001b[38;5;28;01mdef\u001b[39;00m\u001b[38;5;250m \u001b[39m\u001b[34m__exit__\u001b[39m(\u001b[38;5;28mself\u001b[39m, exc_type: Any, exc_value: Any, traceback: Any):\n\u001b[32m    777\u001b[39m     \u001b[38;5;28;01mif\u001b[39;00m \u001b[38;5;129;01mnot\u001b[39;00m \u001b[38;5;28mself\u001b[39m.run_callbacks_on_exit:\n\u001b[32m    778\u001b[39m         \u001b[38;5;28;01mreturn\u001b[39;00m\n",
      "\u001b[31mKeyboardInterrupt\u001b[39m: "
     ]
    }
   ],
   "source": [
    "# Setup \n",
    "args = {\n",
    "    'mod': '97',\n",
    "    \"math_op\": \"/\",\n",
    "    \"epochs\": \"1\",\n",
    "    \"n_layer\": \"2\",\n",
    "    \"n_head\": \"4\",\n",
    "    \"n_embd\": \"128\",\n",
    "    \"block_size\": \"32\",  # [x, y, =] or [x, y, z]\n",
    "    \"dropout\": \"0.0\",\n",
    "    \"bias\": \"True\",\n",
    "    \"learning_rate\": \"1e-3\",\n",
    "    \"weight_decay\": \"1e-2\",\n",
    "    \"batch_size\": \"512\",\n",
    "    'exp_name': \"grok\",\n",
    "    \"eval_every\": \"10000\",\n",
    "    \"num_steps\": \"100_000\",\n",
    "}\n",
    "config = train.parse_args(train.build_arg_input(**args))\n",
    "print(\"Config loaded. Using config\")\n",
    "\n",
    "train_loader, val_loader, test_loader = train.load_dataset(config)\n",
    "print(\"Data loaded\")\n",
    "# print(json.dumps(vars(config), indent=4))\n",
    "\n",
    "\n",
    "# Create the transformer\n",
    "gpt, optimizer = train.gen_gpt(config)\n",
    "print(\"GPT built\")\n",
    "# Train loop\n",
    "print(\"Train started\")\n",
    "train_losses, val_losses = train.train_model(\n",
    "    gpt, train_loader, val_loader, config, optimizer\n",
    ")\n",
    "print(\"Train done\")\n",
    "\n",
    "# Testing\n",
    "train.test_model(gpt, test_loader, config)\n",
    "\n",
    "# Save trained model,configs and losses\n",
    "with open(config.exp_name + \"_config.json\", \"w\") as f:\n",
    "    json.dump(vars(config), f, indent=4)\n",
    "\n",
    "torch.save(gpt.state_dict(), config.exp_name + \".pth\")\n",
    "\n",
    "with open(config.exp_name + \"_losses.json\", \"w\") as f:\n",
    "    json.dump({\"train_losses\": train_losses, \"val_losses\": val_losses}, f)\n",
    "\n",
    "print(len(train_losses))\n",
    "print(len(val_losses))\n",
    "# df = pd.DataFrame({\"train_losses\": train_losses, \"val_losses\": val_losses})\n",
    "# df.to_csv(f\"{config.exp_name}_losses.csv\", index=False)\n",
    "# df.to_parquet(f\"{config.exp_name}_losses.csv\", index=False)"
   ]
  },
  {
   "cell_type": "markdown",
   "id": "7620a0b7",
   "metadata": {},
   "source": [
    "## Visualize Grokking"
   ]
  },
  {
   "cell_type": "code",
   "execution_count": null,
   "id": "bcf6dd77",
   "metadata": {},
   "outputs": [],
   "source": [
    "# Plot\n",
    "# plt.figure(figsize=(8, 6))\n",
    "# plt.plot(steps, train_acc, color='red', label='train')\n",
    "# plt.plot(steps, train_acc + train_noise, color='red', alpha=0.2)\n",
    "# plt.plot(steps, val_acc, color='green', label='val')\n",
    "# plt.plot(steps, val_acc + val_noise, color='green', alpha=0.2)\n",
    "\n",
    "# # Decorations\n",
    "# plt.xscale(\"log\")\n",
    "# plt.xlabel(\"Optimization Steps\")\n",
    "# plt.ylabel(\"Accuracy\")\n",
    "# plt.title(\"Modular Division (training on 50% of data)\")\n",
    "# plt.ylim([0, 105])\n",
    "# plt.legend()\n",
    "# plt.grid(True)\n",
    "# plt.tight_layout()\n",
    "# plt.show()"
   ]
  }
 ],
 "metadata": {
  "kernelspec": {
   "display_name": "core",
   "language": "python",
   "name": "python3"
  },
  "language_info": {
   "codemirror_mode": {
    "name": "ipython",
    "version": 3
   },
   "file_extension": ".py",
   "mimetype": "text/x-python",
   "name": "python",
   "nbconvert_exporter": "python",
   "pygments_lexer": "ipython3",
   "version": "3.12.7"
  }
 },
 "nbformat": 4,
 "nbformat_minor": 5
}
